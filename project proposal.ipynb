{
 "cells": [
  {
   "cell_type": "markdown",
   "metadata": {},
   "source": [
    "# Deep Video Deinterlacing\n",
    "by, Atharv Bhat (arb881@nyu.edu) and Roumil Shah (rts8980@nyu.edu)<br>\n",
    "aka <b>the-fellowship</b>\n",
    "\n",
    "<hr style=\"height:1px;border-width:0;color:gray;background-color:black\">\n",
    "\n",
    "### Motivation : \n",
    "<div align=\"justify\">Currently, video deinterlacing is performed using proprietary hardware or software. We propose a software-only approach to tackle this problem using Deep Learning.</div>\n",
    "\n",
    "### Approach :\n",
    "<div align=\"justify\">Current deep learning based methods try to enhance the quality of videos that were already de-interlaced by proprietary hardware/software. We try to come up with a solution that works on interlaced frames directly to try and improve their quality. The deep learning model will be trained using a dataset that we will create ourselves. We will evaluate and compare the performance of our model with other non learning-based techniques using metrics such as $PSNR$, $SSIM$ and $MSE$.</div>"
   ]
  }
 ],
 "metadata": {
  "kernelspec": {
   "display_name": "Python 3",
   "language": "python",
   "name": "python3"
  },
  "language_info": {
   "codemirror_mode": {
    "name": "ipython",
    "version": 3
   },
   "file_extension": ".py",
   "mimetype": "text/x-python",
   "name": "python",
   "nbconvert_exporter": "python",
   "pygments_lexer": "ipython3",
   "version": "3.8.5"
  }
 },
 "nbformat": 4,
 "nbformat_minor": 4
}
