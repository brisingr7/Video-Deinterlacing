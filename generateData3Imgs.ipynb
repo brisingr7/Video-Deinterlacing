{
 "cells": [
  {
   "cell_type": "code",
   "execution_count": 1,
   "metadata": {},
   "outputs": [],
   "source": [
    "import os\n",
    "import cv2\n",
    "import numpy as np\n",
    "import glob\n",
    "from tqdm import tqdm\n",
    "import time\n",
    "\n",
    "np.random.seed(1337)"
   ]
  },
  {
   "cell_type": "code",
   "execution_count": 2,
   "metadata": {},
   "outputs": [
    {
     "name": "stderr",
     "output_type": "stream",
     "text": [
      " 54%|██████████████████████████████████████████████████████████████▍                                                    | 543/1000 [00:03<00:03, 146.18it/s]"
     ]
    },
    {
     "name": "stdout",
     "output_type": "stream",
     "text": [
      "all the input array dimensions for the concatenation axis must match exactly, but along dimension 0, the array at index 0 has size 270 and the array at index 2 has size 360\n",
      "all the input array dimensions for the concatenation axis must match exactly, but along dimension 0, the array at index 0 has size 270 and the array at index 1 has size 360\n"
     ]
    },
    {
     "name": "stderr",
     "output_type": "stream",
     "text": [
      " 61%|██████████████████████████████████████████████████████████████████████▏                                            | 610/1000 [00:03<00:02, 160.98it/s]"
     ]
    },
    {
     "name": "stdout",
     "output_type": "stream",
     "text": [
      "all the input array dimensions for the concatenation axis must match exactly, but along dimension 0, the array at index 0 has size 360 and the array at index 2 has size 270\n",
      "all the input array dimensions for the concatenation axis must match exactly, but along dimension 0, the array at index 0 has size 360 and the array at index 1 has size 270\n"
     ]
    },
    {
     "name": "stderr",
     "output_type": "stream",
     "text": [
      "100%|██████████████████████████████████████████████████████████████████████████████████████████████████████████████████| 1000/1000 [00:05<00:00, 170.31it/s]\n"
     ]
    }
   ],
   "source": [
    "for i in tqdm(range(len(os.listdir('dataset/ground_truth/1')) - 2)):\n",
    "    try:\n",
    "        img1 = cv2.imread(f\"dataset/interlaced/1/{i}.bmp\")\n",
    "        img2 = cv2.imread(f\"dataset/interlaced/1/{i+1}.bmp\")\n",
    "        img3 = cv2.imread(f\"dataset/interlaced/1/{i+2}.bmp\")\n",
    "        gt = cv2.imread(f\"dataset/ground_truth/1/{i+1}.bmp\")\n",
    "        compound = np.concatenate((img1, img2, img3), axis=2)\n",
    "        np.save(f\"dataset3/interlaced/1/{i}.npy\", compound)\n",
    "        cv2.imwrite(f\"dataset3/ground_truth/1/{i}.bmp\", gt)\n",
    "    except:\n",
    "        continue\n"
   ]
  },
  {
   "cell_type": "code",
   "execution_count": null,
   "metadata": {},
   "outputs": [],
   "source": []
  }
 ],
 "metadata": {
  "kernelspec": {
   "display_name": "Python 3",
   "language": "python",
   "name": "python3"
  },
  "language_info": {
   "codemirror_mode": {
    "name": "ipython",
    "version": 3
   },
   "file_extension": ".py",
   "mimetype": "text/x-python",
   "name": "python",
   "nbconvert_exporter": "python",
   "pygments_lexer": "ipython3",
   "version": "3.8.5"
  }
 },
 "nbformat": 4,
 "nbformat_minor": 4
}
