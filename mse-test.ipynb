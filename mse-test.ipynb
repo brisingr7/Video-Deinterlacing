{
 "cells": [
  {
   "cell_type": "code",
   "execution_count": 1,
   "metadata": {},
   "outputs": [],
   "source": [
    "import cv2"
   ]
  },
  {
   "cell_type": "code",
   "execution_count": 2,
   "metadata": {},
   "outputs": [],
   "source": [
    "from skimage.metrics import structural_similarity, mean_squared_error"
   ]
  },
  {
   "cell_type": "code",
   "execution_count": 3,
   "metadata": {},
   "outputs": [],
   "source": [
    "gtruth = cv2.imread('dataset/ground_truth/1/0.bmp')"
   ]
  },
  {
   "cell_type": "code",
   "execution_count": 4,
   "metadata": {},
   "outputs": [],
   "source": [
    "\n",
    "l1image = cv2.imread('your_file_L1.bmp')"
   ]
  },
  {
   "cell_type": "code",
   "execution_count": 5,
   "metadata": {},
   "outputs": [],
   "source": [
    "naiveimg = cv2.imread('naive.bmp')"
   ]
  },
  {
   "cell_type": "code",
   "execution_count": 6,
   "metadata": {},
   "outputs": [],
   "source": [
    "def print_metrics(img1, img2):\n",
    "    print('# SSIM #')\n",
    "    print(structural_similarity(img1, img2, multichannel=True))\n",
    "    print('# MSE #')\n",
    "    print(mean_squared_error(img1, img2))"
   ]
  },
  {
   "cell_type": "code",
   "execution_count": 7,
   "metadata": {},
   "outputs": [
    {
     "name": "stdout",
     "output_type": "stream",
     "text": [
      "###### L1 LOSS ######\n",
      "# SSIM #\n",
      "0.979663553668152\n",
      "# MSE #\n",
      "15.449302983539095\n",
      "\n",
      "###### NAIVE ######\n",
      "# SSIM #\n",
      "0.8907186443253013\n",
      "# MSE #\n",
      "162.13434413580248\n",
      "\n"
     ]
    }
   ],
   "source": [
    "list_images = [(\"###### L1 LOSS ######\", l1image), (\"###### NAIVE ######\", naiveimg)]\n",
    "for method, img in list_images:\n",
    "    print(method)\n",
    "    print_metrics(gtruth, img)\n",
    "    print()"
   ]
  },
  {
   "cell_type": "code",
   "execution_count": null,
   "metadata": {},
   "outputs": [],
   "source": [
    "###### L1 LOSS ######\n",
    "# SSIM #\n",
    "0.961217283467043\n",
    "# MSE #\n",
    "46.842534872847864\n",
    "\n",
    "###### NAIVE ######\n",
    "# SSIM #\n",
    "0.9433870313087901\n",
    "# MSE #\n",
    "85.27669363468101"
   ]
  }
 ],
 "metadata": {
  "kernelspec": {
   "display_name": "Python 3",
   "language": "python",
   "name": "python3"
  },
  "language_info": {
   "codemirror_mode": {
    "name": "ipython",
    "version": 3
   },
   "file_extension": ".py",
   "mimetype": "text/x-python",
   "name": "python",
   "nbconvert_exporter": "python",
   "pygments_lexer": "ipython3",
   "version": "3.8.5"
  }
 },
 "nbformat": 4,
 "nbformat_minor": 4
}
