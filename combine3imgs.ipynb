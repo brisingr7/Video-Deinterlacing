{
 "cells": [
  {
   "cell_type": "code",
   "execution_count": 2,
   "id": "valuable-scene",
   "metadata": {},
   "outputs": [],
   "source": [
    "import os\n",
    "import cv2\n",
    "import numpy as np\n",
    "import glob\n",
    "from tqdm import tqdm\n",
    "import time\n",
    "from PIL import Image\n",
    "\n",
    "np.random.seed(1337)"
   ]
  },
  {
   "cell_type": "code",
   "execution_count": null,
   "id": "honest-lecture",
   "metadata": {},
   "outputs": [
    {
     "name": "stderr",
     "output_type": "stream",
     "text": [
      "  1%|          | 1095/99824 [00:03<05:31, 298.16it/s]"
     ]
    }
   ],
   "source": [
    "for i in tqdm(range(len(os.listdir('dataset_new/ground_truth/1')) - 2)):\n",
    "    try:\n",
    "        img1 = cv2.imread(f\"dataset_new/interlaced/1/{i}.bmp\")\n",
    "        img2 = cv2.imread(f\"dataset_new/interlaced/1/{i+1}.bmp\")\n",
    "        img3 = cv2.imread(f\"dataset_new/interlaced/1/{i+2}.bmp\")\n",
    "        img1 = cv2.cvtColor(img1, cv2.COLOR_BGR2RGB)\n",
    "        img2 = cv2.cvtColor(img2, cv2.COLOR_BGR2RGB)\n",
    "        img3 = cv2.cvtColor(img3, cv2.COLOR_BGR2RGB)\n",
    "        gt = cv2.imread(f\"dataset_new/ground_truth/1/{i+1}.bmp\")\n",
    "        compound = np.concatenate((np.array(img1), np.array(img2), np.array(img3)), axis=2)\n",
    "        np.save(f\"dataset3/interlaced/1/{i}.npy\", compound)\n",
    "        cv2.imwrite(f\"dataset3/ground_truth/1/{i}.bmp\", gt)\n",
    "    except:\n",
    "        continue\n"
   ]
  },
  {
   "cell_type": "code",
   "execution_count": null,
   "id": "first-facing",
   "metadata": {},
   "outputs": [],
   "source": []
  }
 ],
 "metadata": {
  "kernelspec": {
   "display_name": "Python 3",
   "language": "python",
   "name": "python3"
  },
  "language_info": {
   "codemirror_mode": {
    "name": "ipython",
    "version": 3
   },
   "file_extension": ".py",
   "mimetype": "text/x-python",
   "name": "python",
   "nbconvert_exporter": "python",
   "pygments_lexer": "ipython3",
   "version": "3.8.5"
  }
 },
 "nbformat": 4,
 "nbformat_minor": 5
}
