{
 "cells": [
  {
   "cell_type": "code",
   "execution_count": 1,
   "metadata": {},
   "outputs": [],
   "source": [
    "import torch\n",
    "from torch import optim\n",
    "import torch.nn as nn\n",
    "from torch.nn import MSELoss, L1Loss\n",
    "from torch.utils.data import Dataset, DataLoader, random_split\n",
    "import torchvision\n",
    "from torchvision import datasets\n",
    "from torchvision.transforms import ToTensor, Lambda\n",
    "import torchvision.transforms as transforms\n",
    "from torchvision.io import read_image\n",
    "import numpy as np\n",
    "from numpy import random\n",
    "import matplotlib.pyplot as plt\n",
    "import os\n",
    "from os import listdir\n",
    "from os.path import splitext\n",
    "from glob import glob\n",
    "from PIL import Image\n",
    "from tqdm import tqdm\n",
    "import logging\n",
    "from unet_model3 import UNet"
   ]
  },
  {
   "cell_type": "code",
   "execution_count": 2,
   "metadata": {},
   "outputs": [],
   "source": [
    "def imshow(img):\n",
    "    import cv2\n",
    "    import IPython\n",
    "    _,ret = cv2.imencode('.jpg', img) \n",
    "    i = IPython.display.Image(data=ret)\n",
    "    IPython.display.display(i)"
   ]
  },
  {
   "cell_type": "code",
   "execution_count": 3,
   "metadata": {},
   "outputs": [],
   "source": [
    "class TheDataset(Dataset):\n",
    "    def __init__(self, interlaced_dir, gtruth_dir, scale=1):\n",
    "        self.interlaced_dir = interlaced_dir\n",
    "        self.gtruth_dir = gtruth_dir\n",
    "        self.scale = scale\n",
    "        self.transform = transforms.Compose([transforms.RandomCrop(256), transforms.ToTensor()])\n",
    "        \n",
    "        assert 0 < scale <= 1, 'Scale must be between 0 and 1'\n",
    "\n",
    "        self.ids = [splitext(file)[0] for file in listdir(interlaced_dir)]\n",
    "#         print(self.ids)\n",
    "        print(f'Creating dataset with {len(self.ids)} examples')\n",
    "\n",
    "    def __len__(self):\n",
    "        return len(self.ids)\n",
    "\n",
    "    @classmethod\n",
    "    def preprocess(cls, pil_img, scale):\n",
    "        pil_img = pil_img\n",
    "        \n",
    "        return pil_img\n",
    "\n",
    "    def __getitem__(self, i):\n",
    "        idx = self.ids[i]\n",
    "        gtruth_file = glob(self.gtruth_dir + idx + '.*')\n",
    "        interlaced_file = glob(self.interlaced_dir + idx + '.*')\n",
    "        \n",
    "        assert len(gtruth_file) == 1, \\\n",
    "            f'Either no mask or multiple masks found for the ID {idx}: {gtruth_file}'\n",
    "        assert len(interlaced_file) == 1, \\\n",
    "            f'Either no image or multiple images found for the ID {idx}: {interlaced_file}'\n",
    "        gtruth = Image.open(gtruth_file[0])\n",
    "        interlaced = np.load(interlaced_file[0])\n",
    "\n",
    "#         assert interlaced.size == gtruth.size, \\\n",
    "#             f'Image and mask {idx} should be the same size, but are {interlaced.size} and {gtruth.size}'\n",
    "        \n",
    "        seed = np.random.randint(2147483647) # make a seed with numpy generator \n",
    "        random.seed(seed) # apply this seed to img tranfsorms\n",
    "        torch.manual_seed(seed) # needed for torchvision 0.7\n",
    "        inter1 = interlaced[:,:,0:3]\n",
    "        inter1 = inter1[:,:,::-1]\n",
    "        inter1 = Image.fromarray(inter1)\n",
    "        inter1 = self.transform(inter1)\n",
    "        inter1 = self.preprocess(inter1, self.scale)\n",
    "#         plt.imshow(inter1.permute(1, 2, 0))\n",
    "        \n",
    "        random.seed(seed) # apply this seed to img tranfsorms\n",
    "        torch.manual_seed(seed) # needed for torchvision 0.7\n",
    "        inter2 = interlaced[:,:,3:6]\n",
    "        inter2 = inter2[:,:,::-1]\n",
    "        inter2 = Image.fromarray(inter2)\n",
    "        inter2 = self.transform(inter2)\n",
    "        inter2 = self.preprocess(inter2, self.scale)\n",
    "#         plt.imshow(inter2.permute(1, 2, 0))\n",
    "        \n",
    "        random.seed(seed) # apply this seed to img tranfsorms\n",
    "        torch.manual_seed(seed) # needed for torchvision 0.7\n",
    "        inter3 = interlaced[:,:,6:9]\n",
    "        inter3 = inter3[:,:,::-1]\n",
    "        inter3 = Image.fromarray(inter3)\n",
    "        inter3 = self.transform(inter3)\n",
    "        inter3 = self.preprocess(inter3, self.scale)\n",
    "#         plt.imshow(inter3.permute(1, 2, 0))\n",
    "        \n",
    "        random.seed(seed) # apply this seed to img tranfsorms\n",
    "        torch.manual_seed(seed) # needed for torchvision 0.7\n",
    "        gtruth = self.transform(gtruth)\n",
    "        gtruth = self.preprocess(gtruth, self.scale)\n",
    "#         plt.imshow(gtruth.permute(1, 2, 0))\n",
    "        interlaced = torch.cat((inter1, inter2, inter3), 0)\n",
    "        return interlaced, gtruth\n",
    "    "
   ]
  },
  {
   "cell_type": "code",
   "execution_count": 4,
   "metadata": {},
   "outputs": [],
   "source": [
    "interlaced_dir = \"./dataset3/interlaced/\"\n",
    "gtruth_dir = \"./dataset3/ground_truth/\"\n",
    "img_scale = 1"
   ]
  },
  {
   "cell_type": "code",
   "execution_count": 5,
   "metadata": {},
   "outputs": [
    {
     "name": "stdout",
     "output_type": "stream",
     "text": [
      "Creating dataset with 99738 examples\n",
      "19947 79791\n"
     ]
    }
   ],
   "source": [
    "batch_size = 144\n",
    "val_percent = 0.2\n",
    "\n",
    "random.seed(23)\n",
    "torch.manual_seed(23)\n",
    "\n",
    "dataset = TheDataset(interlaced_dir, gtruth_dir, img_scale)\n",
    "n_val = int(len(dataset) * val_percent)\n",
    "n_train = len(dataset) - n_val\n",
    "print(n_val, n_train)\n",
    "train, val = random_split(dataset, [n_train, n_val])\n",
    "train_loader = DataLoader(train, batch_size=batch_size, shuffle=True, num_workers=24, pin_memory=True)\n",
    "val_loader = DataLoader(val, batch_size=batch_size, shuffle=False, num_workers=24, pin_memory=True, drop_last=True)\n",
    "# for inter, truth in tqdm(train_loader):\n",
    "\n",
    "#     print(np.array(inter[0].permute(1,2,0)))\n",
    "#     imshow(np.array(inter[0].permute(1,2,0)))\n",
    "#     imshow(np.array(truth[0].permute(1,2,0)))\n",
    "#     break"
   ]
  },
  {
   "cell_type": "code",
   "execution_count": 6,
   "metadata": {},
   "outputs": [],
   "source": [
    "def train_net(idx, net, lr, losses):\n",
    "\n",
    "    device = torch.device(\"cuda:0\" if torch.cuda.is_available() else \"cpu\")\n",
    "    optimizer = optim.Adam(net.parameters(), lr=lr, weight_decay=1e-3)\n",
    "    criterion = L1Loss()\n",
    "    \n",
    "    net.train()\n",
    "    epoch_loss = 0\n",
    "\n",
    "    ##################### TRAINING LOOP ########################\n",
    "        \n",
    "    for batch, (interlaced, truths) in enumerate(tqdm(train_loader)):\n",
    "        interlaced = interlaced.to(device=device, dtype=torch.float32)\n",
    "        truths = truths.to(device=device, dtype=torch.float32)\n",
    "\n",
    "        net_pred = net(interlaced)\n",
    "        loss = criterion(net_pred, truths)\n",
    "        epoch_loss += loss.item()\n",
    "        optimizer.zero_grad()\n",
    "        loss.backward()\n",
    "        optimizer.step()\n",
    "\n",
    "        if batch % 46 == 0:\n",
    "            loss, current = loss.item(), batch * len(interlaced)\n",
    "            print(f\"loss: {loss}  [{current}/{n_train}]\")\n",
    "\n",
    "    print(f\"Epoch {idx+1} loss: {epoch_loss/len(train_loader)}-------------------\\n\")\n",
    "\n",
    "    ##################### VALIDATION LOOP ########################\n",
    "    \n",
    "    test_loss = 0\n",
    "    with torch.no_grad():\n",
    "        net.eval()\n",
    "        for batch, (interlaced, truths) in enumerate(tqdm(val_loader)):\n",
    "            interlaced = interlaced.to(device=device, dtype=torch.float32)\n",
    "            truths = truths.to(device=device, dtype=torch.float32)\n",
    "\n",
    "            net_pred = net(interlaced)\n",
    "            test_loss += criterion(net_pred, truths).item()\n",
    "\n",
    "    print(f\"Test loss for epoch {idx+1}: {test_loss/len(val_loader)}-------------------\\n\")\n",
    "    losses.append((epoch_loss, test_loss))\n",
    "    "
   ]
  },
  {
   "cell_type": "code",
   "execution_count": 7,
   "metadata": {
    "scrolled": true
   },
   "outputs": [
    {
     "name": "stderr",
     "output_type": "stream",
     "text": [
      "\r",
      "  0%|          | 0/555 [00:00<?, ?it/s]"
     ]
    },
    {
     "name": "stdout",
     "output_type": "stream",
     "text": [
      "Epoch 6\n",
      "-------------------------------\n"
     ]
    },
    {
     "name": "stderr",
     "output_type": "stream",
     "text": [
      "\r",
      "  0%|          | 1/555 [02:33<23:41:31, 153.96s/it]"
     ]
    },
    {
     "name": "stdout",
     "output_type": "stream",
     "text": [
      "loss: 0.010253196582198143  [0/79791]\n"
     ]
    },
    {
     "name": "stderr",
     "output_type": "stream",
     "text": [
      "  8%|▊         | 47/555 [06:08<37:52,  4.47s/it]   "
     ]
    },
    {
     "name": "stdout",
     "output_type": "stream",
     "text": [
      "loss: 0.009307022206485271  [6624/79791]\n"
     ]
    },
    {
     "name": "stderr",
     "output_type": "stream",
     "text": [
      " 17%|█▋        | 93/555 [10:45<34:28,  4.48s/it]  "
     ]
    },
    {
     "name": "stdout",
     "output_type": "stream",
     "text": [
      "loss: 0.011854852549731731  [13248/79791]\n"
     ]
    },
    {
     "name": "stderr",
     "output_type": "stream",
     "text": [
      " 25%|██▌       | 139/555 [15:21<31:09,  4.49s/it]  "
     ]
    },
    {
     "name": "stdout",
     "output_type": "stream",
     "text": [
      "loss: 0.009355681017041206  [19872/79791]\n"
     ]
    },
    {
     "name": "stderr",
     "output_type": "stream",
     "text": [
      " 33%|███▎      | 185/555 [19:47<27:51,  4.52s/it]  "
     ]
    },
    {
     "name": "stdout",
     "output_type": "stream",
     "text": [
      "loss: 0.009155992418527603  [26496/79791]\n"
     ]
    },
    {
     "name": "stderr",
     "output_type": "stream",
     "text": [
      " 42%|████▏     | 231/555 [24:14<24:38,  4.56s/it]  "
     ]
    },
    {
     "name": "stdout",
     "output_type": "stream",
     "text": [
      "loss: 0.0081398356705904  [33120/79791]\n"
     ]
    },
    {
     "name": "stderr",
     "output_type": "stream",
     "text": [
      " 50%|████▉     | 277/555 [28:40<21:39,  4.67s/it]  "
     ]
    },
    {
     "name": "stdout",
     "output_type": "stream",
     "text": [
      "loss: 0.011146442033350468  [39744/79791]\n"
     ]
    },
    {
     "name": "stderr",
     "output_type": "stream",
     "text": [
      " 58%|█████▊    | 323/555 [33:23<19:27,  5.03s/it]  "
     ]
    },
    {
     "name": "stdout",
     "output_type": "stream",
     "text": [
      "loss: 0.010981438681483269  [46368/79791]\n"
     ]
    },
    {
     "name": "stderr",
     "output_type": "stream",
     "text": [
      " 66%|██████▋   | 369/555 [37:58<17:03,  5.50s/it]"
     ]
    },
    {
     "name": "stdout",
     "output_type": "stream",
     "text": [
      "loss: 0.010735020972788334  [52992/79791]\n"
     ]
    },
    {
     "name": "stderr",
     "output_type": "stream",
     "text": [
      " 75%|███████▍  | 415/555 [42:31<15:43,  6.74s/it]"
     ]
    },
    {
     "name": "stdout",
     "output_type": "stream",
     "text": [
      "loss: 0.008754928596317768  [59616/79791]\n"
     ]
    },
    {
     "name": "stderr",
     "output_type": "stream",
     "text": [
      " 83%|████████▎ | 461/555 [47:01<13:37,  8.70s/it]"
     ]
    },
    {
     "name": "stdout",
     "output_type": "stream",
     "text": [
      "loss: 0.008288266137242317  [66240/79791]\n"
     ]
    },
    {
     "name": "stderr",
     "output_type": "stream",
     "text": [
      " 91%|█████████▏| 507/555 [51:43<11:29, 14.37s/it]"
     ]
    },
    {
     "name": "stdout",
     "output_type": "stream",
     "text": [
      "loss: 0.009493610821664333  [72864/79791]\n"
     ]
    },
    {
     "name": "stderr",
     "output_type": "stream",
     "text": [
      "100%|█████████▉| 553/555 [55:08<00:08,  4.47s/it]"
     ]
    },
    {
     "name": "stdout",
     "output_type": "stream",
     "text": [
      "loss: 0.008733760565519333  [79488/79791]\n"
     ]
    },
    {
     "name": "stderr",
     "output_type": "stream",
     "text": [
      "100%|██████████| 555/555 [55:13<00:00,  5.97s/it]\n",
      "  0%|          | 0/138 [00:00<?, ?it/s]"
     ]
    },
    {
     "name": "stdout",
     "output_type": "stream",
     "text": [
      "Epoch 1 loss: 0.00994408962543349-------------------\n",
      "\n"
     ]
    },
    {
     "name": "stderr",
     "output_type": "stream",
     "text": [
      "100%|██████████| 138/138 [13:56<00:00,  6.06s/it] \n"
     ]
    },
    {
     "name": "stdout",
     "output_type": "stream",
     "text": [
      "Test loss for epoch 1: 0.0073014211105317745-------------------\n",
      "\n"
     ]
    },
    {
     "name": "stderr",
     "output_type": "stream",
     "text": [
      "\r",
      "  0%|          | 0/555 [00:00<?, ?it/s]"
     ]
    },
    {
     "name": "stdout",
     "output_type": "stream",
     "text": [
      "Epoch 7\n",
      "-------------------------------\n"
     ]
    },
    {
     "name": "stderr",
     "output_type": "stream",
     "text": [
      "\r",
      "  0%|          | 1/555 [02:39<24:29:23, 159.14s/it]"
     ]
    },
    {
     "name": "stdout",
     "output_type": "stream",
     "text": [
      "loss: 0.008301816880702972  [0/79791]\n"
     ]
    },
    {
     "name": "stderr",
     "output_type": "stream",
     "text": [
      "  8%|▊         | 47/555 [06:23<37:54,  4.48s/it]   "
     ]
    },
    {
     "name": "stdout",
     "output_type": "stream",
     "text": [
      "loss: 0.01009159255772829  [6624/79791]\n"
     ]
    },
    {
     "name": "stderr",
     "output_type": "stream",
     "text": [
      " 17%|█▋        | 93/555 [11:14<34:33,  4.49s/it]  "
     ]
    },
    {
     "name": "stdout",
     "output_type": "stream",
     "text": [
      "loss: 0.0093527901917696  [13248/79791]\n"
     ]
    },
    {
     "name": "stderr",
     "output_type": "stream",
     "text": [
      " 25%|██▌       | 139/555 [16:50<31:16,  4.51s/it]  "
     ]
    },
    {
     "name": "stdout",
     "output_type": "stream",
     "text": [
      "loss: 0.00854977685958147  [19872/79791]\n"
     ]
    },
    {
     "name": "stderr",
     "output_type": "stream",
     "text": [
      " 33%|███▎      | 185/555 [21:48<27:49,  4.51s/it]  "
     ]
    },
    {
     "name": "stdout",
     "output_type": "stream",
     "text": [
      "loss: 0.009095210582017899  [26496/79791]\n"
     ]
    },
    {
     "name": "stderr",
     "output_type": "stream",
     "text": [
      " 42%|████▏     | 231/555 [26:33<24:41,  4.57s/it]  "
     ]
    },
    {
     "name": "stdout",
     "output_type": "stream",
     "text": [
      "loss: 0.014090560376644135  [33120/79791]\n"
     ]
    },
    {
     "name": "stderr",
     "output_type": "stream",
     "text": [
      " 50%|████▉     | 277/555 [31:14<21:43,  4.69s/it]  "
     ]
    },
    {
     "name": "stdout",
     "output_type": "stream",
     "text": [
      "loss: 0.009382386691868305  [39744/79791]\n"
     ]
    },
    {
     "name": "stderr",
     "output_type": "stream",
     "text": [
      " 58%|█████▊    | 323/555 [35:47<18:54,  4.89s/it]  "
     ]
    },
    {
     "name": "stdout",
     "output_type": "stream",
     "text": [
      "loss: 0.009845894761383533  [46368/79791]\n"
     ]
    },
    {
     "name": "stderr",
     "output_type": "stream",
     "text": [
      " 66%|██████▋   | 369/555 [40:24<16:43,  5.39s/it]  "
     ]
    },
    {
     "name": "stdout",
     "output_type": "stream",
     "text": [
      "loss: 0.010999527759850025  [52992/79791]\n"
     ]
    },
    {
     "name": "stderr",
     "output_type": "stream",
     "text": [
      " 75%|███████▍  | 415/555 [44:59<14:28,  6.21s/it]"
     ]
    },
    {
     "name": "stdout",
     "output_type": "stream",
     "text": [
      "loss: 0.009928942658007145  [59616/79791]\n"
     ]
    },
    {
     "name": "stderr",
     "output_type": "stream",
     "text": [
      " 83%|████████▎ | 461/555 [49:45<13:09,  8.39s/it]"
     ]
    },
    {
     "name": "stdout",
     "output_type": "stream",
     "text": [
      "loss: 0.00999514665454626  [66240/79791]\n"
     ]
    },
    {
     "name": "stderr",
     "output_type": "stream",
     "text": [
      " 91%|█████████▏| 507/555 [54:18<09:35, 12.00s/it]"
     ]
    },
    {
     "name": "stdout",
     "output_type": "stream",
     "text": [
      "loss: 0.010840749368071556  [72864/79791]\n"
     ]
    },
    {
     "name": "stderr",
     "output_type": "stream",
     "text": [
      "100%|█████████▉| 553/555 [57:40<00:08,  4.47s/it]"
     ]
    },
    {
     "name": "stdout",
     "output_type": "stream",
     "text": [
      "loss: 0.013218186795711517  [79488/79791]\n"
     ]
    },
    {
     "name": "stderr",
     "output_type": "stream",
     "text": [
      "100%|██████████| 555/555 [57:44<00:00,  6.24s/it]\n",
      "  0%|          | 0/138 [00:00<?, ?it/s]"
     ]
    },
    {
     "name": "stdout",
     "output_type": "stream",
     "text": [
      "Epoch 2 loss: 0.009692613578292432-------------------\n",
      "\n"
     ]
    },
    {
     "name": "stderr",
     "output_type": "stream",
     "text": [
      "100%|██████████| 138/138 [13:56<00:00,  6.06s/it] \n"
     ]
    },
    {
     "name": "stdout",
     "output_type": "stream",
     "text": [
      "Test loss for epoch 2: 0.007590544403301201-------------------\n",
      "\n"
     ]
    },
    {
     "name": "stderr",
     "output_type": "stream",
     "text": [
      "\r",
      "  0%|          | 0/555 [00:00<?, ?it/s]"
     ]
    },
    {
     "name": "stdout",
     "output_type": "stream",
     "text": [
      "Epoch 8\n",
      "-------------------------------\n"
     ]
    },
    {
     "name": "stderr",
     "output_type": "stream",
     "text": [
      "\r",
      "  0%|          | 1/555 [02:33<23:36:13, 153.38s/it]"
     ]
    },
    {
     "name": "stdout",
     "output_type": "stream",
     "text": [
      "loss: 0.008270014077425003  [0/79791]\n"
     ]
    },
    {
     "name": "stderr",
     "output_type": "stream",
     "text": [
      "  8%|▊         | 47/555 [06:19<37:55,  4.48s/it]   "
     ]
    },
    {
     "name": "stdout",
     "output_type": "stream",
     "text": [
      "loss: 0.00787296611815691  [6624/79791]\n"
     ]
    },
    {
     "name": "stderr",
     "output_type": "stream",
     "text": [
      " 17%|█▋        | 93/555 [10:51<34:31,  4.48s/it]  "
     ]
    },
    {
     "name": "stdout",
     "output_type": "stream",
     "text": [
      "loss: 0.008420182392001152  [13248/79791]\n"
     ]
    },
    {
     "name": "stderr",
     "output_type": "stream",
     "text": [
      " 25%|██▌       | 139/555 [15:34<30:58,  4.47s/it]  "
     ]
    },
    {
     "name": "stdout",
     "output_type": "stream",
     "text": [
      "loss: 0.00880781002342701  [19872/79791]\n"
     ]
    },
    {
     "name": "stderr",
     "output_type": "stream",
     "text": [
      " 33%|███▎      | 185/555 [20:10<27:37,  4.48s/it]  "
     ]
    },
    {
     "name": "stdout",
     "output_type": "stream",
     "text": [
      "loss: 0.008826694451272488  [26496/79791]\n"
     ]
    },
    {
     "name": "stderr",
     "output_type": "stream",
     "text": [
      " 42%|████▏     | 231/555 [24:48<24:28,  4.53s/it]  "
     ]
    },
    {
     "name": "stdout",
     "output_type": "stream",
     "text": [
      "loss: 0.008638383820652962  [33120/79791]\n"
     ]
    },
    {
     "name": "stderr",
     "output_type": "stream",
     "text": [
      " 50%|████▉     | 277/555 [29:28<21:31,  4.64s/it]  "
     ]
    },
    {
     "name": "stdout",
     "output_type": "stream",
     "text": [
      "loss: 0.007931862026453018  [39744/79791]\n"
     ]
    },
    {
     "name": "stderr",
     "output_type": "stream",
     "text": [
      " 58%|█████▊    | 323/555 [34:24<19:19,  5.00s/it]  "
     ]
    },
    {
     "name": "stdout",
     "output_type": "stream",
     "text": [
      "loss: 0.008884415030479431  [46368/79791]\n"
     ]
    },
    {
     "name": "stderr",
     "output_type": "stream",
     "text": [
      " 66%|██████▋   | 369/555 [39:30<17:33,  5.66s/it]  "
     ]
    },
    {
     "name": "stdout",
     "output_type": "stream",
     "text": [
      "loss: 0.009003802202641964  [52992/79791]\n"
     ]
    },
    {
     "name": "stderr",
     "output_type": "stream",
     "text": [
      " 75%|███████▍  | 415/555 [44:24<15:36,  6.69s/it]"
     ]
    },
    {
     "name": "stdout",
     "output_type": "stream",
     "text": [
      "loss: 0.01168590597808361  [59616/79791]\n"
     ]
    },
    {
     "name": "stderr",
     "output_type": "stream",
     "text": [
      " 83%|████████▎ | 461/555 [49:20<14:35,  9.32s/it]"
     ]
    },
    {
     "name": "stdout",
     "output_type": "stream",
     "text": [
      "loss: 0.00990600511431694  [66240/79791]\n"
     ]
    },
    {
     "name": "stderr",
     "output_type": "stream",
     "text": [
      " 91%|█████████▏| 507/555 [54:25<12:00, 15.02s/it]"
     ]
    },
    {
     "name": "stdout",
     "output_type": "stream",
     "text": [
      "loss: 0.008696315810084343  [72864/79791]\n"
     ]
    },
    {
     "name": "stderr",
     "output_type": "stream",
     "text": [
      "100%|█████████▉| 553/555 [57:48<00:08,  4.44s/it]"
     ]
    },
    {
     "name": "stdout",
     "output_type": "stream",
     "text": [
      "loss: 0.009022839367389679  [79488/79791]\n"
     ]
    },
    {
     "name": "stderr",
     "output_type": "stream",
     "text": [
      "100%|██████████| 555/555 [57:52<00:00,  6.26s/it]\n",
      "  0%|          | 0/138 [00:00<?, ?it/s]"
     ]
    },
    {
     "name": "stdout",
     "output_type": "stream",
     "text": [
      "Epoch 3 loss: 0.009351646150923796-------------------\n",
      "\n"
     ]
    },
    {
     "name": "stderr",
     "output_type": "stream",
     "text": [
      "100%|██████████| 138/138 [14:55<00:00,  6.49s/it] \n"
     ]
    },
    {
     "name": "stdout",
     "output_type": "stream",
     "text": [
      "Test loss for epoch 3: 0.0074141406980545626-------------------\n",
      "\n"
     ]
    },
    {
     "name": "stderr",
     "output_type": "stream",
     "text": [
      "\r",
      "  0%|          | 0/555 [00:00<?, ?it/s]"
     ]
    },
    {
     "name": "stdout",
     "output_type": "stream",
     "text": [
      "Epoch 9\n",
      "-------------------------------\n"
     ]
    },
    {
     "name": "stderr",
     "output_type": "stream",
     "text": [
      "\r",
      "  0%|          | 1/555 [02:41<24:48:24, 161.20s/it]"
     ]
    },
    {
     "name": "stdout",
     "output_type": "stream",
     "text": [
      "loss: 0.010769415646791458  [0/79791]\n"
     ]
    },
    {
     "name": "stderr",
     "output_type": "stream",
     "text": [
      "  8%|▊         | 47/555 [06:31<37:38,  4.45s/it]   "
     ]
    },
    {
     "name": "stdout",
     "output_type": "stream",
     "text": [
      "loss: 0.00865481048822403  [6624/79791]\n"
     ]
    },
    {
     "name": "stderr",
     "output_type": "stream",
     "text": [
      " 17%|█▋        | 93/555 [11:28<34:13,  4.45s/it]  "
     ]
    },
    {
     "name": "stdout",
     "output_type": "stream",
     "text": [
      "loss: 0.010809286497533321  [13248/79791]\n"
     ]
    },
    {
     "name": "stderr",
     "output_type": "stream",
     "text": [
      " 25%|██▌       | 139/555 [16:21<30:54,  4.46s/it]  "
     ]
    },
    {
     "name": "stdout",
     "output_type": "stream",
     "text": [
      "loss: 0.009891645051538944  [19872/79791]\n"
     ]
    },
    {
     "name": "stderr",
     "output_type": "stream",
     "text": [
      " 33%|███▎      | 185/555 [21:12<27:38,  4.48s/it]  "
     ]
    },
    {
     "name": "stdout",
     "output_type": "stream",
     "text": [
      "loss: 0.007738747633993626  [26496/79791]\n"
     ]
    },
    {
     "name": "stderr",
     "output_type": "stream",
     "text": [
      " 42%|████▏     | 231/555 [25:57<24:31,  4.54s/it]  "
     ]
    },
    {
     "name": "stdout",
     "output_type": "stream",
     "text": [
      "loss: 0.008576382882893085  [33120/79791]\n"
     ]
    },
    {
     "name": "stderr",
     "output_type": "stream",
     "text": [
      " 50%|████▉     | 277/555 [30:34<21:26,  4.63s/it]  "
     ]
    },
    {
     "name": "stdout",
     "output_type": "stream",
     "text": [
      "loss: 0.01010140497237444  [39744/79791]\n"
     ]
    },
    {
     "name": "stderr",
     "output_type": "stream",
     "text": [
      " 58%|█████▊    | 323/555 [35:23<19:23,  5.02s/it]  "
     ]
    },
    {
     "name": "stdout",
     "output_type": "stream",
     "text": [
      "loss: 0.010077775456011295  [46368/79791]\n"
     ]
    },
    {
     "name": "stderr",
     "output_type": "stream",
     "text": [
      " 66%|██████▋   | 369/555 [40:03<16:53,  5.45s/it]  "
     ]
    },
    {
     "name": "stdout",
     "output_type": "stream",
     "text": [
      "loss: 0.010388749651610851  [52992/79791]\n"
     ]
    },
    {
     "name": "stderr",
     "output_type": "stream",
     "text": [
      " 75%|███████▍  | 415/555 [44:41<14:32,  6.23s/it]"
     ]
    },
    {
     "name": "stdout",
     "output_type": "stream",
     "text": [
      "loss: 0.009609510190784931  [59616/79791]\n"
     ]
    },
    {
     "name": "stderr",
     "output_type": "stream",
     "text": [
      " 83%|████████▎ | 461/555 [49:26<13:23,  8.55s/it]"
     ]
    },
    {
     "name": "stdout",
     "output_type": "stream",
     "text": [
      "loss: 0.007933313958346844  [66240/79791]\n"
     ]
    },
    {
     "name": "stderr",
     "output_type": "stream",
     "text": [
      " 91%|█████████▏| 507/555 [54:00<10:12, 12.77s/it]"
     ]
    },
    {
     "name": "stdout",
     "output_type": "stream",
     "text": [
      "loss: 0.010128344409167767  [72864/79791]\n"
     ]
    },
    {
     "name": "stderr",
     "output_type": "stream",
     "text": [
      "100%|█████████▉| 553/555 [57:27<00:08,  4.44s/it]"
     ]
    },
    {
     "name": "stdout",
     "output_type": "stream",
     "text": [
      "loss: 0.009200416505336761  [79488/79791]\n"
     ]
    },
    {
     "name": "stderr",
     "output_type": "stream",
     "text": [
      "100%|██████████| 555/555 [57:31<00:00,  6.22s/it]\n",
      "  0%|          | 0/138 [00:00<?, ?it/s]"
     ]
    },
    {
     "name": "stdout",
     "output_type": "stream",
     "text": [
      "Epoch 4 loss: 0.009308080115934482-------------------\n",
      "\n"
     ]
    },
    {
     "name": "stderr",
     "output_type": "stream",
     "text": [
      "100%|██████████| 138/138 [13:56<00:00,  6.06s/it] \n"
     ]
    },
    {
     "name": "stdout",
     "output_type": "stream",
     "text": [
      "Test loss for epoch 4: 0.007873461251079605-------------------\n",
      "\n"
     ]
    }
   ],
   "source": [
    "losses = []\n",
    "device = torch.device(\"cuda:0\" if torch.cuda.is_available() else \"cpu\")\n",
    "net = UNet(n_channels=9, bilinear=True)\n",
    "# net = nn.DataParallel(net)\n",
    "# net.to(device=device)\n",
    "# lr_list = [1e-3, 1e-4, 1e-5, 1e-6, 1e-7]\n",
    "# for idx, lr in enumerate(lr_list):\n",
    "#     print(f\"Epoch {idx+1}\\n-------------------------------\")\n",
    "#     train_net(idx=idx, net=net, lr=lr, losses=losses)\n",
    "#     torch.save(net.module.state_dict(), f'model3-fixed-{idx+1}.pth')\n",
    "\n",
    "net.load_state_dict(torch.load('model3-fixed-6.pth'))\n",
    "net = nn.DataParallel(net)\n",
    "net.to(device=device)\n",
    "lr_list = [1e-6, 1e-6, 1e-7, 1e-7]\n",
    "for idx, lr in enumerate(lr_list):\n",
    "    print(f\"Epoch {idx+1+5}\\n-------------------------------\")\n",
    "    train_net(idx=idx, net=net, lr=lr, losses=losses)\n",
    "    torch.save(net.module.state_dict(), f'model3-fixed-{idx+1+5}.pth')"
   ]
  },
  {
   "cell_type": "code",
   "execution_count": 11,
   "metadata": {},
   "outputs": [
    {
     "data": {
      "text/plain": [
       "[<matplotlib.lines.Line2D at 0x153861c614f0>]"
      ]
     },
     "execution_count": 11,
     "metadata": {},
     "output_type": "execute_result"
    },
    {
     "data": {
      "image/png": "[encoded data removed]",
      "text/plain": [
       "<Figure size 432x288 with 1 Axes>"
      ]
     },
     "metadata": {
      "needs_background": "light"
     },
     "output_type": "display_data"
    }
   ],
   "source": [
    "trainls=[]\n",
    "valls=[]\n",
    "for train_l, val_l in losses:\n",
    "    trainls.append(train_l)\n",
    "    valls.append(val_l)\n",
    "\n",
    "plt.figure()\n",
    "plt.plot(np.array(trainls)/144)\n",
    "plt.plot(np.array(valls)/144)"
   ]
  },
  {
   "cell_type": "code",
   "execution_count": null,
   "metadata": {},
   "outputs": [],
   "source": []
  }
 ],
 "metadata": {
  "kernelspec": {
   "display_name": "Python 3",
   "language": "python",
   "name": "python3"
  },
  "language_info": {
   "codemirror_mode": {
    "name": "ipython",
    "version": 3
   },
   "file_extension": ".py",
   "mimetype": "text/x-python",
   "name": "python",
   "nbconvert_exporter": "python",
   "pygments_lexer": "ipython3",
   "version": "3.8.5"
  }
 },
 "nbformat": 4,
 "nbformat_minor": 4
}
