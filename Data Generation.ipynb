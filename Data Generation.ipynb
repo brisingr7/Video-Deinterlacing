{
 "cells": [
  {
   "cell_type": "code",
   "execution_count": 1,
   "metadata": {},
   "outputs": [],
   "source": [
    "import cv2\n",
    "import os\n",
    "import matplotlib.pyplot as plt\n",
    "%matplotlib inline"
   ]
  },
  {
   "cell_type": "code",
   "execution_count": 2,
   "metadata": {},
   "outputs": [],
   "source": [
    "def createDataset(path):\n",
    "    # X = []\n",
    "    # Y = []\n",
    "  \n",
    "    # Used as counter variable\n",
    "    count = 0\n",
    "      \n",
    "    for videoName in os.listdir(path):\n",
    "        \n",
    "        # checks whether frames were extracted\n",
    "        success = True\n",
    "        vidObj = cv2.VideoCapture(os.path.join(path, videoName))\n",
    "        \n",
    "        while True:\n",
    "\n",
    "            success, image = vidObj.read()\n",
    "            if success == False:\n",
    "                break\n",
    "\n",
    "            cv2.imwrite(\"./Images/frame%d.jpg\" % count, image)\n",
    "            # X.append(image)\n",
    "\n",
    "            if count % 2 == 0:\n",
    "                image[::2] = 0\n",
    "            else:\n",
    "                image[1::2] = 0\n",
    "\n",
    "            # Y.append(image)\n",
    "\n",
    "            cv2.imwrite(\"./Dataset/img%d.jpg\" % count, image)\n",
    "            count += 1\n",
    "    # return X, Y"
   ]
  },
  {
   "cell_type": "code",
   "execution_count": 3,
   "metadata": {},
   "outputs": [],
   "source": [
    "createDataset(\"./Videos\")"
   ]
  }
 ],
 "metadata": {
  "kernelspec": {
   "display_name": "Python 3",
   "language": "python",
   "name": "python3"
  },
  "language_info": {
   "codemirror_mode": {
    "name": "ipython",
    "version": 3
   },
   "file_extension": ".py",
   "mimetype": "text/x-python",
   "name": "python",
   "nbconvert_exporter": "python",
   "pygments_lexer": "ipython3",
   "version": "3.8.5"
  }
 },
 "nbformat": 4,
 "nbformat_minor": 4
}
