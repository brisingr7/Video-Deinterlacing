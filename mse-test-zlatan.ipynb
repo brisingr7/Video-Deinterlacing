{
 "cells": [
  {
   "cell_type": "code",
   "execution_count": 15,
   "metadata": {},
   "outputs": [],
   "source": [
    "import cv2\n",
    "import os\n",
    "from tqdm import tqdm\n",
    "import numpy as np"
   ]
  },
  {
   "cell_type": "code",
   "execution_count": 16,
   "metadata": {},
   "outputs": [],
   "source": [
    "from skimage.metrics import structural_similarity, mean_squared_error"
   ]
  },
  {
   "cell_type": "code",
   "execution_count": 3,
   "metadata": {},
   "outputs": [],
   "source": [
    "gtruth = cv2.imread('dataset/ground_truth/1/0.bmp')"
   ]
  },
  {
   "cell_type": "code",
   "execution_count": 4,
   "metadata": {},
   "outputs": [],
   "source": [
    "l1image = cv2.imread('your_file_L1.bmp')"
   ]
  },
  {
   "cell_type": "code",
   "execution_count": 5,
   "metadata": {},
   "outputs": [],
   "source": [
    "naiveimg = cv2.imread('naive.bmp')"
   ]
  },
  {
   "cell_type": "code",
   "execution_count": 17,
   "metadata": {},
   "outputs": [],
   "source": [
    "def calculate_metrics(img1, img2):\n",
    "#     print('# SSIM #')\n",
    "#     print(structural_similarity(img1, img2, multichannel=True))\n",
    "#     print('# MSE #')\n",
    "#     print(mean_squared_error(img1, img2))\n",
    "    return structural_similarity(img1, img2, multichannel=True), mean_squared_error(img1, img2)"
   ]
  },
  {
   "cell_type": "code",
   "execution_count": 25,
   "metadata": {},
   "outputs": [
    {
     "name": "stderr",
     "output_type": "stream",
     "text": [
      "100%|███████████████████████████████████████████████████████████████████████████████████████████████| 1072/1072 [09:52<00:00,  1.81it/s]\n"
     ]
    }
   ],
   "source": [
    "ssim_list = []\n",
    "mse_list = []\n",
    "for i in tqdm(range(len(os.listdir('results')))):\n",
    "    zlatan_output = cv2.imread(f\"results/{i}.bmp\")\n",
    "    zlatan_gt = cv2.imread(f\"test_gt//{i}.bmp\")\n",
    "    ssim, mse = calculate_metrics(zlatan_output, zlatan_gt)\n",
    "    ssim_list.append(ssim)\n",
    "    mse_list.append(mse)"
   ]
  },
  {
   "cell_type": "code",
   "execution_count": 26,
   "metadata": {},
   "outputs": [
    {
     "name": "stdout",
     "output_type": "stream",
     "text": [
      "######### SSIM ########\n",
      "0.889346805834353\n",
      "######### MSE ########\n",
      "279.8788008238295\n"
     ]
    }
   ],
   "source": [
    "avg_ssim = np.array(ssim_list).mean()\n",
    "avg_mse = np.array(mse_list).mean()\n",
    "\n",
    "print(\"######### SSIM ########\")\n",
    "print(avg_ssim)\n",
    "print(\"######### MSE ########\")\n",
    "print(avg_mse)"
   ]
  },
  {
   "cell_type": "code",
   "execution_count": 7,
   "metadata": {
    "scrolled": true
   },
   "outputs": [
    {
     "name": "stdout",
     "output_type": "stream",
     "text": [
      "###### L1 LOSS ######\n",
      "# SSIM #\n",
      "0.979663553668152\n",
      "# MSE #\n",
      "15.449302983539095\n",
      "\n",
      "###### NAIVE ######\n",
      "# SSIM #\n",
      "0.8907186443253013\n",
      "# MSE #\n",
      "162.13434413580248\n",
      "\n"
     ]
    }
   ],
   "source": [
    "list_images = [(\"###### L1 LOSS ######\", l1image), (\"###### NAIVE ######\", naiveimg)]\n",
    "for method, img in list_images:\n",
    "    print(method)\n",
    "    print_metrics(gtruth, img)\n",
    "    print()"
   ]
  },
  {
   "cell_type": "code",
   "execution_count": null,
   "metadata": {},
   "outputs": [],
   "source": [
    "###### L1 LOSS ######\n",
    "# SSIM #\n",
    "0.961217283467043\n",
    "# MSE #\n",
    "46.842534872847864\n",
    "\n",
    "###### NAIVE ######\n",
    "# SSIM #\n",
    "0.9433870313087901\n",
    "# MSE #\n",
    "85.27669363468101\n",
    "\n",
    "\n",
    "### zlatan network output ###\n",
    "######### SSIM ########\n",
    "0.9812340857772515\n",
    "######### MSE ########\n",
    "18.014840820750706\n",
    "\n",
    "### zlatan naive ###\n",
    "######### SSIM ########\n",
    "0.8583050462050481\n",
    "######### MSE ########\n",
    "273.98862398079046\n",
    "\n",
    "### zlatan their output ###\n",
    "######### SSIM ########\n",
    "0.889346805834353\n",
    "######### MSE ########\n",
    "279.8788008238295"
   ]
  }
 ],
 "metadata": {
  "kernelspec": {
   "display_name": "Python 3",
   "language": "python",
   "name": "python3"
  },
  "language_info": {
   "codemirror_mode": {
    "name": "ipython",
    "version": 3
   },
   "file_extension": ".py",
   "mimetype": "text/x-python",
   "name": "python",
   "nbconvert_exporter": "python",
   "pygments_lexer": "ipython3",
   "version": "3.8.5"
  }
 },
 "nbformat": 4,
 "nbformat_minor": 4
}
