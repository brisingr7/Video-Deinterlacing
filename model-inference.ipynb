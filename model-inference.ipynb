{
 "cells": [
  {
   "cell_type": "code",
   "execution_count": null,
   "metadata": {},
   "outputs": [],
   "source": [
    "import numpy as np\n",
    "import torch\n",
    "import os\n",
    "from tqdm import tqdm\n",
    "from PIL import Image\n",
    "import matplotlib.pyplot as plt\n",
    "from unet_model import UNet"
   ]
  },
  {
   "cell_type": "code",
   "execution_count": null,
   "metadata": {},
   "outputs": [],
   "source": [
    "net = UNet(n_channels=3, bilinear=True)\n",
    "net.load_state_dict(torch.load('model.pth'))"
   ]
  },
  {
   "cell_type": "code",
   "execution_count": null,
   "metadata": {},
   "outputs": [],
   "source": [
    "net"
   ]
  },
  {
   "cell_type": "code",
   "execution_count": null,
   "metadata": {
    "scrolled": false
   },
   "outputs": [],
   "source": [
    "net.eval()\n",
    "net = net.to(torch.device('cuda'))\n",
    "for i in tqdm(range(len(os.listdir('test_inter')))):\n",
    "    test_image = Image.open(f\"test_inter/{i}.bmp\")\n",
    "    test_image_array = np.array(test_image)\n",
    "    test_image_array = test_image_array/255\n",
    "    tensor = torch.tensor(test_image_array)\n",
    "    tensor = tensor.permute(2,0,1)\n",
    "    tensor = torch.unsqueeze(tensor, 0)\n",
    "    tensor = tensor.type(torch.FloatTensor)\n",
    "    tensor = tensor.to(torch.device('cuda'))\n",
    "    \n",
    "    out = net(tensor)\n",
    "    out = out*255\n",
    "    out.clip_(0, 255)\n",
    "    out_np = np.array(out.detach()).astype(np.uint8)\n",
    "    out_np = np.squeeze(out_np)\n",
    "    out_np = np.transpose(out_np, (1,2,0))\n",
    "    im = Image.fromarray(out_np)\n",
    "    im.save(f\"test-output/{i}.bmp\")"
   ]
  }
 ],
 "metadata": {
  "kernelspec": {
   "display_name": "Python 3",
   "language": "python",
   "name": "python3"
  },
  "language_info": {
   "codemirror_mode": {
    "name": "ipython",
    "version": 3
   },
   "file_extension": ".py",
   "mimetype": "text/x-python",
   "name": "python",
   "nbconvert_exporter": "python",
   "pygments_lexer": "ipython3",
   "version": "3.8.5"
  }
 },
 "nbformat": 4,
 "nbformat_minor": 4
}
